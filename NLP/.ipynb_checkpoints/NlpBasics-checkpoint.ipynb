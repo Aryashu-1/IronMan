{
 "cells": [
  {
   "cell_type": "code",
   "execution_count": 1,
   "id": "89113650",
   "metadata": {},
   "outputs": [
    {
     "name": "stdout",
     "output_type": "stream",
     "text": [
      "Requirement already satisfied: nltk in c:\\users\\dell\\anaconda3\\lib\\site-packages (3.8.1)\n",
      "Requirement already satisfied: click in c:\\users\\dell\\anaconda3\\lib\\site-packages (from nltk) (8.0.4)\n",
      "Requirement already satisfied: joblib in c:\\users\\dell\\anaconda3\\lib\\site-packages (from nltk) (1.2.0)\n",
      "Requirement already satisfied: regex>=2021.8.3 in c:\\users\\dell\\anaconda3\\lib\\site-packages (from nltk) (2022.7.9)\n",
      "Requirement already satisfied: tqdm in c:\\users\\dell\\anaconda3\\lib\\site-packages (from nltk) (4.65.0)\n",
      "Requirement already satisfied: colorama in c:\\users\\dell\\anaconda3\\lib\\site-packages (from click->nltk) (0.4.6)\n"
     ]
    }
   ],
   "source": [
    "!pip install nltk"
   ]
  },
  {
   "cell_type": "code",
   "execution_count": 2,
   "id": "b0151ff1",
   "metadata": {},
   "outputs": [],
   "source": [
    "paragraph = \"\"\" Iron Man is a superhero appearing in American comic books published by Marvel Comics. Co-created by writer and editor Stan Lee, developed by scripter Larry Lieber, and designed by artists Don Heck and Jack Kirby, the character first appeared in Tales of Suspense #39 in 1962, and received his own title with Iron Man #1 in 1968. Shortly after his creation, Iron Man became a founding member of the superhero team, the Avengers, with Thor, Ant-Man, the Wasp, and the Hulk. Iron Man stories, individually and with the Avengers, have been published consistently since the character's creation.\n",
    "\n",
    "Iron Man is the superhero persona of Anthony Edward \"Tony\" Stark, a businessman and engineer who runs the weapons manufacturing company Stark Industries. When Stark was captured in a war zone and sustained a serious heart wound, he built his Iron Man armor and escaped his captors. Iron Man's suits of armor grant him superhuman strength, flight, energy projection, and other abilities. The character was created in response to the Vietnam War as Lee's attempt to create a likeable pro-war character. Since his creation, Iron Man has been used to explore political themes, with early Iron Man stories being set in the Cold War. The character's role as a weapons manufacturer proved controversial, and Marvel moved away from geopolitics by the 1970s. Instead, the stories began exploring themes such as civil unrest, technological advancement, corporate espionage, alcoholism, and governmental authority.\"\"\""
   ]
  },
  {
   "cell_type": "code",
   "execution_count": 3,
   "id": "bb8a0afe",
   "metadata": {},
   "outputs": [
    {
     "name": "stdout",
     "output_type": "stream",
     "text": [
      " Iron Man is a superhero appearing in American comic books published by Marvel Comics. Co-created by writer and editor Stan Lee, developed by scripter Larry Lieber, and designed by artists Don Heck and Jack Kirby, the character first appeared in Tales of Suspense #39 in 1962, and received his own title with Iron Man #1 in 1968. Shortly after his creation, Iron Man became a founding member of the superhero team, the Avengers, with Thor, Ant-Man, the Wasp, and the Hulk. Iron Man stories, individually and with the Avengers, have been published consistently since the character's creation.\n",
      "\n",
      "Iron Man is the superhero persona of Anthony Edward \"Tony\" Stark, a businessman and engineer who runs the weapons manufacturing company Stark Industries. When Stark was captured in a war zone and sustained a serious heart wound, he built his Iron Man armor and escaped his captors. Iron Man's suits of armor grant him superhuman strength, flight, energy projection, and other abilities. The character was created in response to the Vietnam War as Lee's attempt to create a likeable pro-war character. Since his creation, Iron Man has been used to explore political themes, with early Iron Man stories being set in the Cold War. The character's role as a weapons manufacturer proved controversial, and Marvel moved away from geopolitics by the 1970s. Instead, the stories began exploring themes such as civil unrest, technological advancement, corporate espionage, alcoholism, and governmental authority.\n"
     ]
    }
   ],
   "source": [
    "print(paragraph)"
   ]
  },
  {
   "cell_type": "code",
   "execution_count": 4,
   "id": "61e3b767",
   "metadata": {},
   "outputs": [],
   "source": [
    "import nltk\n",
    "from nltk.stem import PorterStemmer \n",
    "from nltk.corpus import stopwords\n"
   ]
  },
  {
   "cell_type": "code",
   "execution_count": 5,
   "id": "4ac416c8",
   "metadata": {},
   "outputs": [
    {
     "name": "stderr",
     "output_type": "stream",
     "text": [
      "[nltk_data] Downloading package punkt to\n",
      "[nltk_data]     C:\\Users\\DELL\\AppData\\Roaming\\nltk_data...\n",
      "[nltk_data]   Unzipping tokenizers\\punkt.zip.\n"
     ]
    },
    {
     "name": "stdout",
     "output_type": "stream",
     "text": [
      "[' Iron Man is a superhero appearing in American comic books published by Marvel Comics.', 'Co-created by writer and editor Stan Lee, developed by scripter Larry Lieber, and designed by artists Don Heck and Jack Kirby, the character first appeared in Tales of Suspense #39 in 1962, and received his own title with Iron Man #1 in 1968.', 'Shortly after his creation, Iron Man became a founding member of the superhero team, the Avengers, with Thor, Ant-Man, the Wasp, and the Hulk.', \"Iron Man stories, individually and with the Avengers, have been published consistently since the character's creation.\", 'Iron Man is the superhero persona of Anthony Edward \"Tony\" Stark, a businessman and engineer who runs the weapons manufacturing company Stark Industries.', 'When Stark was captured in a war zone and sustained a serious heart wound, he built his Iron Man armor and escaped his captors.', \"Iron Man's suits of armor grant him superhuman strength, flight, energy projection, and other abilities.\", \"The character was created in response to the Vietnam War as Lee's attempt to create a likeable pro-war character.\", 'Since his creation, Iron Man has been used to explore political themes, with early Iron Man stories being set in the Cold War.', \"The character's role as a weapons manufacturer proved controversial, and Marvel moved away from geopolitics by the 1970s.\", 'Instead, the stories began exploring themes such as civil unrest, technological advancement, corporate espionage, alcoholism, and governmental authority.']\n"
     ]
    }
   ],
   "source": [
    "### Tokenization of paragraph into sentences\n",
    "nltk.download('punkt')\n",
    "sentences = nltk.sent_tokenize(paragraph)\n",
    "print(sentences)"
   ]
  },
  {
   "cell_type": "code",
   "execution_count": 14,
   "id": "f2a3f63b",
   "metadata": {},
   "outputs": [
    {
     "name": "stdout",
     "output_type": "stream",
     "text": [
      " Iron Man is a superhero appearing in American comic books published by Marvel Comics.\n",
      " Iron Man is a superhero appearing in American comic books published by Marvel Comics.\n",
      "Co-created by writer and editor Stan Lee, developed by scripter Larry Lieber, and designed by artists Don Heck and Jack Kirby, the character first appeared in Tales of Suspense #39 in 1962, and received his own title with Iron Man #1 in 1968.\n",
      "Shortly after his creation, Iron Man became a founding member of the superhero team, the Avengers, with Thor, Ant-Man, the Wasp, and the Hulk.\n",
      "Iron Man stories, individually and with the Avengers, have been published consistently since the character's creation.\n",
      "Iron Man is the superhero persona of Anthony Edward \"Tony\" Stark, a businessman and engineer who runs the weapons manufacturing company Stark Industries.\n",
      "When Stark was captured in a war zone and sustained a serious heart wound, he built his Iron Man armor and escaped his captors.\n",
      "Iron Man's suits of armor grant him superhuman strength, flight, energy projection, and other abilities.\n",
      "The character was created in response to the Vietnam War as Lee's attempt to create a likeable pro-war character.\n",
      "Since his creation, Iron Man has been used to explore political themes, with early Iron Man stories being set in the Cold War.\n",
      "The character's role as a weapons manufacturer proved controversial, and Marvel moved away from geopolitics by the 1970s.\n",
      "Instead, the stories began exploring themes such as civil unrest, technological advancement, corporate espionage, alcoholism, and governmental authority.\n"
     ]
    }
   ],
   "source": [
    "print(sentences[0])\n",
    "for sentence in sentences:\n",
    "    print(sentence)"
   ]
  },
  {
   "cell_type": "code",
   "execution_count": 9,
   "id": "55bdacc0",
   "metadata": {},
   "outputs": [
    {
     "data": {
      "text/plain": [
       "'histor'"
      ]
     },
     "execution_count": 9,
     "metadata": {},
     "output_type": "execute_result"
    }
   ],
   "source": [
    "#example for stemming a word\n",
    "\n",
    "#Initialize stemmer \n",
    "stemmer = PorterStemmer()\n",
    "stemmer.stem('HIstorical')"
   ]
  },
  {
   "cell_type": "code",
   "execution_count": 12,
   "id": "ae33705e",
   "metadata": {},
   "outputs": [
    {
     "data": {
      "text/plain": [
       "'go'"
      ]
     },
     "execution_count": 12,
     "metadata": {},
     "output_type": "execute_result"
    }
   ],
   "source": [
    "#example for lemmatizing a word\n",
    "# nltk.download('wordnet')\n",
    "from nltk.stem import WordNetLemmatizer\n",
    "\n",
    "#Initialize lemmatizer \n",
    "lemmatizer  = WordNetLemmatizer()\n",
    "lemmatizer.lemmatize('goes')"
   ]
  },
  {
   "cell_type": "code",
   "execution_count": 17,
   "id": "9394b348",
   "metadata": {},
   "outputs": [],
   "source": [
    "## to clean the sentences and removing unwanted characters other than alphabets\n",
    "import re\n",
    "corpus=[]\n",
    "for sentence in sentences:\n",
    "    modifiedSentence = re.sub('[^a-zA-Z]',' ',sentence)\n",
    "    modifiedSentence = modifiedSentence.lower()\n",
    "    corpus.append(modifiedSentence)"
   ]
  },
  {
   "cell_type": "code",
   "execution_count": 18,
   "id": "f6604929",
   "metadata": {},
   "outputs": [
    {
     "name": "stdout",
     "output_type": "stream",
     "text": [
      "[' iron man is a superhero appearing in american comic books published by marvel comics ', 'co created by writer and editor stan lee  developed by scripter larry lieber  and designed by artists don heck and jack kirby  the character first appeared in tales of suspense     in       and received his own title with iron man    in      ', 'shortly after his creation  iron man became a founding member of the superhero team  the avengers  with thor  ant man  the wasp  and the hulk ', 'iron man stories  individually and with the avengers  have been published consistently since the character s creation ', 'iron man is the superhero persona of anthony edward  tony  stark  a businessman and engineer who runs the weapons manufacturing company stark industries ', 'when stark was captured in a war zone and sustained a serious heart wound  he built his iron man armor and escaped his captors ', 'iron man s suits of armor grant him superhuman strength  flight  energy projection  and other abilities ', 'the character was created in response to the vietnam war as lee s attempt to create a likeable pro war character ', 'since his creation  iron man has been used to explore political themes  with early iron man stories being set in the cold war ', 'the character s role as a weapons manufacturer proved controversial  and marvel moved away from geopolitics by the     s ', 'instead  the stories began exploring themes such as civil unrest  technological advancement  corporate espionage  alcoholism  and governmental authority ']\n"
     ]
    }
   ],
   "source": [
    "print(corpus)"
   ]
  },
  {
   "cell_type": "code",
   "execution_count": 22,
   "id": "3c0a54a7",
   "metadata": {},
   "outputs": [
    {
     "name": "stderr",
     "output_type": "stream",
     "text": [
      "[nltk_data] Downloading package stopwords to\n",
      "[nltk_data]     C:\\Users\\DELL\\AppData\\Roaming\\nltk_data...\n",
      "[nltk_data]   Unzipping corpora\\stopwords.zip.\n"
     ]
    },
    {
     "name": "stdout",
     "output_type": "stream",
     "text": [
      "iron\n",
      "man\n",
      "superhero\n",
      "appear\n",
      "american\n",
      "comic\n",
      "book\n",
      "publish\n",
      "marvel\n",
      "comic\n",
      "co\n",
      "creat\n",
      "writer\n",
      "editor\n",
      "stan\n",
      "lee\n",
      "develop\n",
      "scripter\n",
      "larri\n",
      "lieber\n",
      "design\n",
      "artist\n",
      "heck\n",
      "jack\n",
      "kirbi\n",
      "charact\n",
      "first\n",
      "appear\n",
      "tale\n",
      "suspens\n",
      "receiv\n",
      "titl\n",
      "iron\n",
      "man\n",
      "shortli\n",
      "creation\n",
      "iron\n",
      "man\n",
      "becam\n",
      "found\n",
      "member\n",
      "superhero\n",
      "team\n",
      "aveng\n",
      "thor\n",
      "ant\n",
      "man\n",
      "wasp\n",
      "hulk\n",
      "iron\n",
      "man\n",
      "stori\n",
      "individu\n",
      "aveng\n",
      "publish\n",
      "consist\n",
      "sinc\n",
      "charact\n",
      "creation\n",
      "iron\n",
      "man\n",
      "superhero\n",
      "persona\n",
      "anthoni\n",
      "edward\n",
      "toni\n",
      "stark\n",
      "businessman\n",
      "engin\n",
      "run\n",
      "weapon\n",
      "manufactur\n",
      "compani\n",
      "stark\n",
      "industri\n",
      "stark\n",
      "captur\n",
      "war\n",
      "zone\n",
      "sustain\n",
      "seriou\n",
      "heart\n",
      "wound\n",
      "built\n",
      "iron\n",
      "man\n",
      "armor\n",
      "escap\n",
      "captor\n",
      "iron\n",
      "man\n",
      "suit\n",
      "armor\n",
      "grant\n",
      "superhuman\n",
      "strength\n",
      "flight\n",
      "energi\n",
      "project\n",
      "abil\n",
      "charact\n",
      "creat\n",
      "respons\n",
      "vietnam\n",
      "war\n",
      "lee\n",
      "attempt\n",
      "creat\n",
      "likeabl\n",
      "pro\n",
      "war\n",
      "charact\n",
      "sinc\n",
      "creation\n",
      "iron\n",
      "man\n",
      "use\n",
      "explor\n",
      "polit\n",
      "theme\n",
      "earli\n",
      "iron\n",
      "man\n",
      "stori\n",
      "set\n",
      "cold\n",
      "war\n",
      "charact\n",
      "role\n",
      "weapon\n",
      "manufactur\n",
      "prove\n",
      "controversi\n",
      "marvel\n",
      "move\n",
      "away\n",
      "geopolit\n",
      "instead\n",
      "stori\n",
      "began\n",
      "explor\n",
      "theme\n",
      "civil\n",
      "unrest\n",
      "technolog\n",
      "advanc\n",
      "corpor\n",
      "espionag\n",
      "alcohol\n",
      "government\n",
      "author\n"
     ]
    }
   ],
   "source": [
    "##applying stemmin for all the words in the corpus\n",
    "# nltk.download('stopwords')\n",
    "for i in corpus:\n",
    "    words = nltk.word_tokenize(i)\n",
    "    for word in words:\n",
    "        if word not in set(stopwords.words('english')):\n",
    "            print(stemmer.stem(word))"
   ]
  },
  {
   "cell_type": "code",
   "execution_count": 23,
   "id": "c7a62f89",
   "metadata": {},
   "outputs": [],
   "source": [
    "### removing stopwords before applying Bag of Words\n",
    "import re\n",
    "corpus=[]\n",
    "for sentence in sentences:\n",
    "    modifiedSentence = re.sub('[^a-zA-Z]',' ',sentence)\n",
    "    modifiedSentence = modifiedSentence.lower()\n",
    "    modifiedSentence = modifiedSentence.split()\n",
    "    modifiedSentence = [lemmatizer.lemmatize(word) for word in modifiedSentence if not word in set(stopwords.words('english')) ]\n",
    "    modifiedSentence = ' '.join(modifiedSentence)\n",
    "    corpus.append(modifiedSentence)\n"
   ]
  },
  {
   "cell_type": "code",
   "execution_count": 24,
   "id": "4d60c771",
   "metadata": {},
   "outputs": [
    {
     "name": "stdout",
     "output_type": "stream",
     "text": [
      "['iron man superhero appearing american comic book published marvel comic', 'co created writer editor stan lee developed scripter larry lieber designed artist heck jack kirby character first appeared tale suspense received title iron man', 'shortly creation iron man became founding member superhero team avenger thor ant man wasp hulk', 'iron man story individually avenger published consistently since character creation', 'iron man superhero persona anthony edward tony stark businessman engineer run weapon manufacturing company stark industry', 'stark captured war zone sustained serious heart wound built iron man armor escaped captor', 'iron man suit armor grant superhuman strength flight energy projection ability', 'character created response vietnam war lee attempt create likeable pro war character', 'since creation iron man used explore political theme early iron man story set cold war', 'character role weapon manufacturer proved controversial marvel moved away geopolitics', 'instead story began exploring theme civil unrest technological advancement corporate espionage alcoholism governmental authority']\n"
     ]
    }
   ],
   "source": [
    "print(corpus)"
   ]
  },
  {
   "cell_type": "code",
   "execution_count": 25,
   "id": "d9b3e4c2",
   "metadata": {},
   "outputs": [
    {
     "name": "stdout",
     "output_type": "stream",
     "text": [
      "{'iron': 56, 'man': 63, 'superhero': 89, 'appearing': 7, 'american': 3, 'comic': 25, 'book': 16, 'published': 74, 'marvel': 66, 'co': 23, 'created': 31, 'writer': 107, 'editor': 36, 'stan': 84, 'lee': 60, 'developed': 34, 'scripter': 79, 'larry': 59, 'lieber': 61, 'designed': 33, 'artist': 9, 'heck': 51, 'jack': 57, 'kirby': 58, 'character': 21, 'first': 44, 'appeared': 6, 'tale': 93, 'suspense': 91, 'received': 75, 'title': 98, 'shortly': 82, 'creation': 32, 'became': 14, 'founding': 46, 'member': 67, 'team': 94, 'avenger': 12, 'thor': 97, 'ant': 4, 'wasp': 104, 'hulk': 52, 'story': 86, 'individually': 53, 'consistently': 27, 'since': 83, 'persona': 69, 'anthony': 5, 'edward': 37, 'tony': 99, 'stark': 85, 'businessman': 18, 'engineer': 39, 'run': 78, 'weapon': 105, 'manufacturing': 65, 'company': 26, 'industry': 54, 'captured': 20, 'war': 103, 'zone': 108, 'sustained': 92, 'serious': 80, 'heart': 50, 'wound': 106, 'built': 17, 'armor': 8, 'escaped': 40, 'captor': 19, 'suit': 88, 'grant': 49, 'superhuman': 90, 'strength': 87, 'flight': 45, 'energy': 38, 'projection': 72, 'ability': 0, 'response': 76, 'vietnam': 102, 'attempt': 10, 'create': 30, 'likeable': 62, 'pro': 71, 'used': 101, 'explore': 42, 'political': 70, 'theme': 96, 'early': 35, 'set': 81, 'cold': 24, 'role': 77, 'manufacturer': 64, 'proved': 73, 'controversial': 28, 'moved': 68, 'away': 13, 'geopolitics': 47, 'instead': 55, 'began': 15, 'exploring': 43, 'civil': 22, 'unrest': 100, 'technological': 95, 'advancement': 1, 'corporate': 29, 'espionage': 41, 'alcoholism': 2, 'governmental': 48, 'authority': 11}\n"
     ]
    }
   ],
   "source": [
    "### applying BOW\n",
    "from sklearn.feature_extraction.text import CountVectorizer\n",
    "countVectorizer = CountVectorizer(binary=True)\n",
    "X = countVectorizer.fit_transform(corpus)\n",
    "print(countVectorizer.vocabulary_)\n",
    "\n"
   ]
  },
  {
   "cell_type": "code",
   "execution_count": 26,
   "id": "69b6f256",
   "metadata": {},
   "outputs": [
    {
     "name": "stdout",
     "output_type": "stream",
     "text": [
      "[[0 0 0 1 0 0 0 1 0 0 0 0 0 0 0 0 1 0 0 0 0 0 0 0 0 1 0 0 0 0 0 0 0 0 0 0\n",
      "  0 0 0 0 0 0 0 0 0 0 0 0 0 0 0 0 0 0 0 0 1 0 0 0 0 0 0 1 0 0 1 0 0 0 0 0\n",
      "  0 0 1 0 0 0 0 0 0 0 0 0 0 0 0 0 0 1 0 0 0 0 0 0 0 0 0 0 0 0 0 0 0 0 0 0\n",
      "  0]]\n"
     ]
    }
   ],
   "source": [
    "print(X[0].toarrayy())"
   ]
  },
  {
   "cell_type": "code",
   "execution_count": null,
   "id": "f2b75aca",
   "metadata": {},
   "outputs": [],
   "source": []
  }
 ],
 "metadata": {
  "kernelspec": {
   "display_name": "Python 3 (ipykernel)",
   "language": "python",
   "name": "python3"
  },
  "language_info": {
   "codemirror_mode": {
    "name": "ipython",
    "version": 3
   },
   "file_extension": ".py",
   "mimetype": "text/x-python",
   "name": "python",
   "nbconvert_exporter": "python",
   "pygments_lexer": "ipython3",
   "version": "3.11.5"
  }
 },
 "nbformat": 4,
 "nbformat_minor": 5
}
