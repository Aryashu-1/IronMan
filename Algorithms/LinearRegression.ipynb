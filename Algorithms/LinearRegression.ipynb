{
 "cells": [
  {
   "cell_type": "code",
   "execution_count": 1,
   "id": "b854dd74",
   "metadata": {},
   "outputs": [],
   "source": [
    "###LINEAR REGRESSION"
   ]
  },
  {
   "cell_type": "code",
   "execution_count": 2,
   "id": "66c6255a",
   "metadata": {},
   "outputs": [],
   "source": [
    "import numpy as np\n",
    "import matplotlib.pyplot as plt"
   ]
  },
  {
   "cell_type": "code",
   "execution_count": 37,
   "id": "955194b2",
   "metadata": {},
   "outputs": [],
   "source": [
    "#Data Generation\n",
    "def dataGenerate(m):\n",
    "    #m = 100 #number of data values\n",
    "    X = np.random.randn(m)*10\n",
    "    noise = np.random.randn(m)\n",
    "    y = 3*X + 1 + noise\n",
    "    return X,y\n"
   ]
  },
  {
   "cell_type": "code",
   "execution_count": 38,
   "id": "40372343",
   "metadata": {},
   "outputs": [
    {
     "name": "stdout",
     "output_type": "stream",
     "text": [
      "100\n",
      "[ -9.57561781   3.54598874   3.706757   -21.30509122  -8.36397983\n",
      "  -5.78567286   4.80476591   1.16629267  -8.47960834  11.71172524\n",
      " -11.99852995   0.902859    -2.02884844  18.50203263  -5.59221259\n",
      "  -8.65553726   0.49879266  -5.90089268  -0.79657582   5.27716193\n",
      " -20.45551315 -11.66536108 -20.04512743  -6.15053515  -5.49008146\n",
      "   5.17970851 -13.99482133  -7.05375722  -7.51879938  14.97718415\n",
      "   4.33218235  -6.45690309  -0.44269799  -1.35983703  -4.61356609\n",
      "   4.70164084   3.45639508 -15.20113766   7.56295185   3.89613562\n",
      "   4.63284684   9.12249064  15.89712746   4.93994631  -7.00885742\n",
      "   6.75077761  10.93075187 -18.92481388  -9.58903474  -4.03112177\n",
      "  -1.77236623  -1.63438288  -6.93510839  -6.20185572  -6.34724935\n",
      "  15.65165757  16.87667233  11.45833324   7.62884173 -13.17596654\n",
      "  -7.52105244   6.01794228  -8.16617786   0.26736675   6.76588352\n",
      "  -7.08402791   1.84759325 -15.52576937   3.01908734   8.56598441\n",
      "  -8.07547072  -7.21233445 -10.37513272   3.03864947 -14.98606673\n",
      "   9.63988267  -8.86218495   5.03138587 -15.01148404 -17.2643503\n",
      "  -4.60661064 -17.69041963   3.42503237  -4.15540633  -6.63736086\n",
      "  -1.44930047  -4.30931635   6.6964856    4.64135737   1.7147067\n",
      " -11.65491396  -0.51727694  15.51921546  -1.19004386   9.7892216\n",
      "  -0.30916413   9.59071166  -2.3642633    1.80415712  -7.8074419 ]\n",
      "100\n",
      "[-28.48897587  12.35468787  11.51469612 -63.46459844 -23.73258056\n",
      " -17.04534912  15.85597889   5.71408659 -24.05710589  37.05720512\n",
      " -34.07806699   3.97688922  -4.86595165  55.70312335 -16.47034183\n",
      " -25.91546292   1.38789879 -16.06481925  -2.4934442   19.59799202\n",
      " -60.26093038 -32.69326998 -58.79868902 -15.74009299 -16.06911161\n",
      "  17.20604197 -38.75104395 -20.90564337 -21.1828013   45.71243017\n",
      "  13.9119158  -18.87332012  -0.2264098   -2.24867044 -11.83243127\n",
      "  12.99441483  11.63719905 -46.15313058  23.55965821  12.43055537\n",
      "  15.045031    30.50357322  47.91623241  14.92263691 -19.40362688\n",
      "  20.24170812  34.42659307 -56.98214669 -29.15623033  -9.33766873\n",
      "  -4.0538671   -3.2773197  -19.78263704 -17.20237629 -17.14392681\n",
      "  46.71329608  51.20396692  32.74544296  22.46324304 -41.38482641\n",
      " -23.53607066  18.42406246 -23.29838844   2.59555166  21.18800141\n",
      " -21.88735926   6.14066367 -46.89083791  11.55178014  28.16879497\n",
      " -23.23165075 -21.00739679 -30.69926694  11.00921112 -43.87814035\n",
      "  29.79622638 -25.17146327  16.19573837 -45.30241307 -50.30673429\n",
      " -11.87177463 -52.24573384  11.04359461 -12.68520652 -19.23464984\n",
      "  -2.48904854 -12.22013375  19.17239546  14.18696092   6.25880828\n",
      " -34.49437144   0.32393813  47.14198452  -3.04176506  32.98526299\n",
      "   0.95437864  29.85880285  -6.18707284   7.46283892 -23.13696034]\n"
     ]
    }
   ],
   "source": [
    "X,y=dataGenerate(100)\n",
    "print(len(X))\n",
    "print(X)\n",
    "print(len(y))\n",
    "print(y)"
   ]
  },
  {
   "cell_type": "code",
   "execution_count": 39,
   "id": "92647e67",
   "metadata": {},
   "outputs": [],
   "source": [
    "#plotting data\n",
    "def plotData(X,y,title):\n",
    "    plt.title(title)\n",
    "    plt.scatter(X,y)\n",
    "    plt.show()\n"
   ]
  },
  {
   "cell_type": "code",
   "execution_count": 40,
   "id": "3519f2fe",
   "metadata": {},
   "outputs": [
    {
     "data": {
      "image/png": "[encoded data removed]",
      "text/plain": [
       "<Figure size 640x480 with 1 Axes>"
      ]
     },
     "metadata": {},
     "output_type": "display_data"
    }
   ],
   "source": [
    "plotData(X,y,\"Test data\")"
   ]
  },
  {
   "cell_type": "code",
   "execution_count": 41,
   "id": "fb54fde7",
   "metadata": {},
   "outputs": [],
   "source": [
    "#Normalize/Standardize the data\n",
    "def normalizeData(X):\n",
    "    X = (X-X.mean())/X.std()\n",
    "    return X"
   ]
  },
  {
   "cell_type": "code",
   "execution_count": 42,
   "id": "42bd22f1",
   "metadata": {},
   "outputs": [
    {
     "name": "stdout",
     "output_type": "stream",
     "text": [
      "[-0.86474128  0.57938311  0.59707678 -2.1556517  -0.73139206 -0.44763139\n",
      "  0.71792032  0.31748095 -0.74411779  1.47807941 -1.13139968  0.28848823\n",
      " -0.03416663  2.22540014 -0.42633973 -0.76347999  0.24401791 -0.46031213\n",
      "  0.10145357  0.7699108  -2.06214971 -1.09473212 -2.01698389 -0.48778703\n",
      " -0.41509949  0.75918538 -1.35110548 -0.58719292 -0.63837406  1.83746596\n",
      "  0.66590921 -0.52150496  0.14040029  0.03946274 -0.31863285  0.70657069\n",
      "  0.5695227  -1.48386901  1.02147794  0.61791922  0.69899943  1.19311607\n",
      "  1.93871214  0.73279787 -0.58225138  0.9320925   1.39212784 -1.89368557\n",
      " -0.86621791 -0.25453079 -0.00593898  0.00924705 -0.57413479 -0.49343521\n",
      " -0.5094368   1.91169647  2.04651789  1.45019185  1.02872958 -1.26098479\n",
      " -0.63862202  0.85143885 -0.70962258  0.21854788  0.93375501 -0.59052442\n",
      "  0.39246283 -1.51959699  0.52139393  1.13186868 -0.69963962 -0.60464545\n",
      " -0.95273348  0.52354688 -1.46019895  1.25005867 -0.78622302  0.74286143\n",
      " -1.4629963  -1.71093996 -0.31786736 -1.75783186  0.56607102 -0.26820917\n",
      " -0.54136559  0.02961667 -0.28514805  0.92611728  0.69993607  0.37783774\n",
      " -1.09358234  0.13219236  1.89712029  0.05814966  1.26649447  0.15509663\n",
      "  1.24464706 -0.07108138  0.38768238 -0.67014118]\n"
     ]
    }
   ],
   "source": [
    "X=normalizeData(X)\n",
    "print(X)"
   ]
  },
  {
   "cell_type": "code",
   "execution_count": 43,
   "id": "f56bad9f",
   "metadata": {},
   "outputs": [],
   "source": [
    "#Train-Test split\n",
    "def trainTestSplit(X,y,split=0.8):\n",
    "    m=X.shape[0]\n",
    "    #data--to split x and y together we are grouping them and shuffling \n",
    "    data = np.zeros((m,2))\n",
    "    data[:,0] = X\n",
    "    data[:,1] = y\n",
    "    np.random.shuffle(data)\n",
    "    split = int(split*m)\n",
    "    Xtrain = data[:split,0]\n",
    "    Xtest = data[split:,0]\n",
    "    ytrain = data[:split,1]\n",
    "    ytest = data[split:,1]\n",
    "    return Xtrain,ytrain,Xtest,ytest\n",
    "    "
   ]
  },
  {
   "cell_type": "code",
   "execution_count": 44,
   "id": "382b3252",
   "metadata": {},
   "outputs": [],
   "source": [
    "Xtrain,ytrain,Xtest,ytest= trainTestSplit(X,y)"
   ]
  },
  {
   "cell_type": "code",
   "execution_count": 45,
   "id": "1fdf63fe",
   "metadata": {},
   "outputs": [
    {
     "name": "stdout",
     "output_type": "stream",
     "text": [
      "(80,)\n",
      "(20,)\n",
      "(80,)\n",
      "(20,)\n"
     ]
    }
   ],
   "source": [
    "print(Xtrain.shape)\n",
    "print(Xtest.shape)\n",
    "print(ytrain.shape)\n",
    "print(ytest.shape)"
   ]
  },
  {
   "cell_type": "code",
   "execution_count": 57,
   "id": "95aecb25",
   "metadata": {},
   "outputs": [],
   "source": [
    "import numpy as np\n",
    "import matplotlib.pyplot as plt\n",
    "\n",
    "# Hypothesis function\n",
    "def hypothesis(X, theta):\n",
    "    return theta[0] + theta[1] * X\n",
    "\n",
    "# Error function\n",
    "def error(X, y, theta):\n",
    "    m = X.shape[0]\n",
    "    y_hat = hypothesis(X, theta)\n",
    "    e = np.sum((y - y_hat) ** 2)\n",
    "    return e / (2 * m)\n",
    "\n",
    "# Gradient function\n",
    "def gradient(X, y, theta):\n",
    "    m = X.shape[0]\n",
    "    y_hat = hypothesis(X, theta)\n",
    "    grad = np.zeros(2)\n",
    "    grad[0] = np.sum(y_hat - y)\n",
    "    grad[1] = np.sum((y_hat - y) * X)\n",
    "    return grad / m\n",
    "\n",
    "# Training function\n",
    "def train(X, y, learning_rate=0.1, maxItrs=100):\n",
    "    theta = np.zeros(2)\n",
    "    errors_list = []\n",
    "    for i in range(maxItrs):\n",
    "        grad = gradient(X, y, theta)\n",
    "        errors_list.append(error(X, y, theta))\n",
    "        theta[0] -= learning_rate * grad[0]\n",
    "        theta[1] -= learning_rate * grad[1]\n",
    "    return theta, errors_list\n",
    "\n",
    "# Prediction function\n",
    "def predict(X, theta):\n",
    "    return hypothesis(X, theta)\n",
    "\n",
    "\n",
    "\n",
    "\n",
    "\n",
    "\n"
   ]
  },
  {
   "cell_type": "code",
   "execution_count": 58,
   "id": "4a416c26",
   "metadata": {},
   "outputs": [
    {
     "name": "stdout",
     "output_type": "stream",
     "text": [
      "Learned parameters: [-4.12997957 27.38184567]\n"
     ]
    }
   ],
   "source": [
    "theta, errors_list = train(Xtrain, ytrain)\n",
    "print(\"Learned parameters:\", theta)"
   ]
  },
  {
   "cell_type": "code",
   "execution_count": 59,
   "id": "1a5dc934",
   "metadata": {},
   "outputs": [
    {
     "data": {
      "image/png": "[encoded data removed]",
      "text/plain": [
       "<Figure size 640x480 with 1 Axes>"
      ]
     },
     "metadata": {},
     "output_type": "display_data"
    }
   ],
   "source": [
    "#predicitons\n",
    "yp = predict(Xtest, theta)\n",
    "# Plotting\n",
    "plt.scatter(Xtrain, ytrain, color=\"orange\", label=\"Training data\")\n",
    "plt.plot(Xtrain, hypothesis(Xtrain, theta), color=\"green\", label=\"Linear fit\")\n",
    "plt.scatter(Xtest, yp, color=\"blue\", label=\"Predictions\")\n",
    "plt.legend()\n",
    "plt.xlabel(\"X\")\n",
    "plt.ylabel(\"y\")\n",
    "plt.title(\"Linear Regression Fit\")\n",
    "plt.show()\n"
   ]
  },
  {
   "cell_type": "code",
   "execution_count": 60,
   "id": "d126ab6e",
   "metadata": {},
   "outputs": [],
   "source": [
    "def r2Score(y,yp):\n",
    "    ymean = y.mean()\n",
    "    numerator = np.sum((y-yp)**2)\n",
    "    denominator = np.sum((y-ymean)**2)\n",
    "    return 1- (numerator/denominator)"
   ]
  },
  {
   "cell_type": "code",
   "execution_count": 62,
   "id": "8dac466c",
   "metadata": {},
   "outputs": [
    {
     "name": "stdout",
     "output_type": "stream",
     "text": [
      "99.8490129795171\n"
     ]
    }
   ],
   "source": [
    "accuracy = r2Score(ytest,yp)*100\n",
    "print(accuracy)"
   ]
  },
  {
   "cell_type": "code",
   "execution_count": 1,
   "id": "ddb12c13",
   "metadata": {},
   "outputs": [],
   "source": [
    "####LINEAR REGRESSION WITH MULTIPLE FEATURES"
   ]
  },
  {
   "cell_type": "code",
   "execution_count": 29,
   "id": "e6a0d3c0",
   "metadata": {},
   "outputs": [],
   "source": [
    "import numpy as np\n",
    "import pandas as pd\n",
    "import matplotlib.pyplot as plt\n",
    "from sklearn.datasets import make_regression\n",
    "from sklearn.model_selection import train_test_split\n"
   ]
  },
  {
   "cell_type": "code",
   "execution_count": 45,
   "id": "2112cd4e",
   "metadata": {},
   "outputs": [
    {
     "name": "stdout",
     "output_type": "stream",
     "text": [
      "(500, 10) (500,)\n"
     ]
    }
   ],
   "source": [
    "#Data Generation \n",
    "X,y =make_regression(n_samples=500,n_features=10,n_informative=6,noise=4.9,random_state=0)\n",
    "n_features = 10\n",
    "print(X.shape, y.shape)"
   ]
  },
  {
   "cell_type": "code",
   "execution_count": 31,
   "id": "a1f62993",
   "metadata": {},
   "outputs": [
    {
     "data": {
      "text/html": [
       "<div>\n",
       "<style scoped>\n",
       "    .dataframe tbody tr th:only-of-type {\n",
       "        vertical-align: middle;\n",
       "    }\n",
       "\n",
       "    .dataframe tbody tr th {\n",
       "        vertical-align: top;\n",
       "    }\n",
       "\n",
       "    .dataframe thead th {\n",
       "        text-align: right;\n",
       "    }\n",
       "</style>\n",
       "<table border=\"1\" class=\"dataframe\">\n",
       "  <thead>\n",
       "    <tr style=\"text-align: right;\">\n",
       "      <th></th>\n",
       "      <th>0</th>\n",
       "      <th>1</th>\n",
       "      <th>2</th>\n",
       "      <th>3</th>\n",
       "      <th>4</th>\n",
       "      <th>5</th>\n",
       "      <th>6</th>\n",
       "      <th>7</th>\n",
       "      <th>8</th>\n",
       "      <th>9</th>\n",
       "    </tr>\n",
       "  </thead>\n",
       "  <tbody>\n",
       "    <tr>\n",
       "      <th>0</th>\n",
       "      <td>-0.254962</td>\n",
       "      <td>-1.595063</td>\n",
       "      <td>0.859492</td>\n",
       "      <td>-0.741556</td>\n",
       "      <td>0.279689</td>\n",
       "      <td>0.956809</td>\n",
       "      <td>0.958888</td>\n",
       "      <td>0.281697</td>\n",
       "      <td>0.915603</td>\n",
       "      <td>1.898921</td>\n",
       "    </tr>\n",
       "    <tr>\n",
       "      <th>1</th>\n",
       "      <td>-1.616956</td>\n",
       "      <td>0.640132</td>\n",
       "      <td>-0.369182</td>\n",
       "      <td>-0.239379</td>\n",
       "      <td>-0.738031</td>\n",
       "      <td>-0.024326</td>\n",
       "      <td>1.099660</td>\n",
       "      <td>0.279925</td>\n",
       "      <td>-0.098150</td>\n",
       "      <td>0.655264</td>\n",
       "    </tr>\n",
       "    <tr>\n",
       "      <th>2</th>\n",
       "      <td>0.093953</td>\n",
       "      <td>-0.130107</td>\n",
       "      <td>0.929505</td>\n",
       "      <td>0.582225</td>\n",
       "      <td>-2.739677</td>\n",
       "      <td>0.943046</td>\n",
       "      <td>-2.094603</td>\n",
       "      <td>-0.569312</td>\n",
       "      <td>0.269904</td>\n",
       "      <td>0.123722</td>\n",
       "    </tr>\n",
       "    <tr>\n",
       "      <th>3</th>\n",
       "      <td>0.978730</td>\n",
       "      <td>1.589923</td>\n",
       "      <td>-0.975921</td>\n",
       "      <td>0.024130</td>\n",
       "      <td>-0.814709</td>\n",
       "      <td>0.934164</td>\n",
       "      <td>1.120464</td>\n",
       "      <td>-0.251242</td>\n",
       "      <td>-0.382835</td>\n",
       "      <td>-1.129877</td>\n",
       "    </tr>\n",
       "    <tr>\n",
       "      <th>4</th>\n",
       "      <td>-0.766705</td>\n",
       "      <td>0.001471</td>\n",
       "      <td>0.192729</td>\n",
       "      <td>0.696439</td>\n",
       "      <td>-0.998192</td>\n",
       "      <td>-1.004323</td>\n",
       "      <td>0.338225</td>\n",
       "      <td>-1.373043</td>\n",
       "      <td>-1.067742</td>\n",
       "      <td>0.651781</td>\n",
       "    </tr>\n",
       "  </tbody>\n",
       "</table>\n",
       "</div>"
      ],
      "text/plain": [
       "          0         1         2         3         4         5         6  \\\n",
       "0 -0.254962 -1.595063  0.859492 -0.741556  0.279689  0.956809  0.958888   \n",
       "1 -1.616956  0.640132 -0.369182 -0.239379 -0.738031 -0.024326  1.099660   \n",
       "2  0.093953 -0.130107  0.929505  0.582225 -2.739677  0.943046 -2.094603   \n",
       "3  0.978730  1.589923 -0.975921  0.024130 -0.814709  0.934164  1.120464   \n",
       "4 -0.766705  0.001471  0.192729  0.696439 -0.998192 -1.004323  0.338225   \n",
       "\n",
       "          7         8         9  \n",
       "0  0.281697  0.915603  1.898921  \n",
       "1  0.279925 -0.098150  0.655264  \n",
       "2 -0.569312  0.269904  0.123722  \n",
       "3 -0.251242 -0.382835 -1.129877  \n",
       "4 -1.373043 -1.067742  0.651781  "
      ]
     },
     "execution_count": 31,
     "metadata": {},
     "output_type": "execute_result"
    }
   ],
   "source": [
    "#Visualise \n",
    "pd.DataFrame(X).head()"
   ]
  },
  {
   "cell_type": "code",
   "execution_count": 32,
   "id": "c07eedc0",
   "metadata": {},
   "outputs": [],
   "source": [
    "#Normalise \n",
    "def Normalise(X):\n",
    "    mean = X.mean(axis=0)\n",
    "    std = X.std(axis=0)\n",
    "    return (X-mean)/std"
   ]
  },
  {
   "cell_type": "code",
   "execution_count": 33,
   "id": "13b2a0b5",
   "metadata": {},
   "outputs": [],
   "source": [
    "X = Normalise(X)\n"
   ]
  },
  {
   "cell_type": "code",
   "execution_count": 34,
   "id": "f6fddac6",
   "metadata": {},
   "outputs": [
    {
     "name": "stdout",
     "output_type": "stream",
     "text": [
      "[-4.48530102e-17  6.94999613e-17  2.39808173e-17 -1.29687927e-17\n",
      " -5.05151476e-17 -2.40640841e-17  6.88338275e-18  1.33226763e-17\n",
      " -6.32827124e-18  1.60982339e-17] [1. 1. 1. 1. 1. 1. 1. 1. 1. 1.]\n"
     ]
    }
   ],
   "source": [
    "print(X.mean(axis=0),X.std(axis=0))"
   ]
  },
  {
   "cell_type": "code",
   "execution_count": 35,
   "id": "2a2041f0",
   "metadata": {},
   "outputs": [
    {
     "name": "stdout",
     "output_type": "stream",
     "text": [
      "(500,) (500,)\n"
     ]
    }
   ],
   "source": [
    "print(X[:,1].shape,y.shape)"
   ]
  },
  {
   "cell_type": "code",
   "execution_count": 36,
   "id": "26d56ce7",
   "metadata": {},
   "outputs": [
    {
     "data": {
      "image/png": "[encoded data removed]",
      "text/plain": [
       "<Figure size 800x550 with 10 Axes>"
      ]
     },
     "metadata": {},
     "output_type": "display_data"
    }
   ],
   "source": [
    "#visulaizing y as function each feature of X\n",
    "for f in range(X.shape[1]):\n",
    "    plt.subplot(4,3,f+1)\n",
    "    plt.scatter(X[:,f],y)\n",
    "plt.show()\n",
    "    "
   ]
  },
  {
   "cell_type": "code",
   "execution_count": 42,
   "id": "79f8f850",
   "metadata": {},
   "outputs": [],
   "source": [
    "#Train test split\n",
    "Xtrain,Xtest,ytrain,ytest = train_test_split(X,y,test_size=0.3,shuffle=False,random_state=0)"
   ]
  },
  {
   "cell_type": "code",
   "execution_count": 43,
   "id": "8000079a",
   "metadata": {},
   "outputs": [
    {
     "data": {
      "text/html": [
       "<div>\n",
       "<style scoped>\n",
       "    .dataframe tbody tr th:only-of-type {\n",
       "        vertical-align: middle;\n",
       "    }\n",
       "\n",
       "    .dataframe tbody tr th {\n",
       "        vertical-align: top;\n",
       "    }\n",
       "\n",
       "    .dataframe thead th {\n",
       "        text-align: right;\n",
       "    }\n",
       "</style>\n",
       "<table border=\"1\" class=\"dataframe\">\n",
       "  <thead>\n",
       "    <tr style=\"text-align: right;\">\n",
       "      <th></th>\n",
       "      <th>0</th>\n",
       "      <th>1</th>\n",
       "      <th>2</th>\n",
       "      <th>3</th>\n",
       "      <th>4</th>\n",
       "      <th>5</th>\n",
       "      <th>6</th>\n",
       "      <th>7</th>\n",
       "      <th>8</th>\n",
       "      <th>9</th>\n",
       "    </tr>\n",
       "  </thead>\n",
       "  <tbody>\n",
       "    <tr>\n",
       "      <th>0</th>\n",
       "      <td>-0.228687</td>\n",
       "      <td>-1.520600</td>\n",
       "      <td>0.959740</td>\n",
       "      <td>-0.828426</td>\n",
       "      <td>0.305836</td>\n",
       "      <td>1.022986</td>\n",
       "      <td>0.975067</td>\n",
       "      <td>0.267708</td>\n",
       "      <td>0.879360</td>\n",
       "      <td>1.976828</td>\n",
       "    </tr>\n",
       "    <tr>\n",
       "      <th>1</th>\n",
       "      <td>-1.612963</td>\n",
       "      <td>0.709920</td>\n",
       "      <td>-0.277540</td>\n",
       "      <td>-0.301827</td>\n",
       "      <td>-0.693297</td>\n",
       "      <td>-0.045695</td>\n",
       "      <td>1.116862</td>\n",
       "      <td>0.265971</td>\n",
       "      <td>-0.166048</td>\n",
       "      <td>0.714702</td>\n",
       "    </tr>\n",
       "    <tr>\n",
       "      <th>2</th>\n",
       "      <td>0.125936</td>\n",
       "      <td>-0.058708</td>\n",
       "      <td>1.030243</td>\n",
       "      <td>0.559735</td>\n",
       "      <td>-2.658385</td>\n",
       "      <td>1.007996</td>\n",
       "      <td>-2.100631</td>\n",
       "      <td>-0.566372</td>\n",
       "      <td>0.213499</td>\n",
       "      <td>0.175267</td>\n",
       "    </tr>\n",
       "    <tr>\n",
       "      <th>3</th>\n",
       "      <td>1.025187</td>\n",
       "      <td>1.657726</td>\n",
       "      <td>-0.888528</td>\n",
       "      <td>-0.025502</td>\n",
       "      <td>-0.768574</td>\n",
       "      <td>0.998321</td>\n",
       "      <td>1.137818</td>\n",
       "      <td>-0.254630</td>\n",
       "      <td>-0.459621</td>\n",
       "      <td>-1.096949</td>\n",
       "    </tr>\n",
       "    <tr>\n",
       "      <th>4</th>\n",
       "      <td>-0.748802</td>\n",
       "      <td>0.072595</td>\n",
       "      <td>0.288307</td>\n",
       "      <td>0.679503</td>\n",
       "      <td>-0.948706</td>\n",
       "      <td>-1.113137</td>\n",
       "      <td>0.349891</td>\n",
       "      <td>-1.354115</td>\n",
       "      <td>-1.165914</td>\n",
       "      <td>0.711168</td>\n",
       "    </tr>\n",
       "  </tbody>\n",
       "</table>\n",
       "</div>"
      ],
      "text/plain": [
       "          0         1         2         3         4         5         6  \\\n",
       "0 -0.228687 -1.520600  0.959740 -0.828426  0.305836  1.022986  0.975067   \n",
       "1 -1.612963  0.709920 -0.277540 -0.301827 -0.693297 -0.045695  1.116862   \n",
       "2  0.125936 -0.058708  1.030243  0.559735 -2.658385  1.007996 -2.100631   \n",
       "3  1.025187  1.657726 -0.888528 -0.025502 -0.768574  0.998321  1.137818   \n",
       "4 -0.748802  0.072595  0.288307  0.679503 -0.948706 -1.113137  0.349891   \n",
       "\n",
       "          7         8         9  \n",
       "0  0.267708  0.879360  1.976828  \n",
       "1  0.265971 -0.166048  0.714702  \n",
       "2 -0.566372  0.213499  0.175267  \n",
       "3 -0.254630 -0.459621 -1.096949  \n",
       "4 -1.354115 -1.165914  0.711168  "
      ]
     },
     "execution_count": 43,
     "metadata": {},
     "output_type": "execute_result"
    }
   ],
   "source": [
    "pd.DataFrame(Xtrain).head()"
   ]
  },
  {
   "cell_type": "code",
   "execution_count": 44,
   "id": "8ab747eb",
   "metadata": {},
   "outputs": [
    {
     "name": "stdout",
     "output_type": "stream",
     "text": [
      "(350, 10) (350,)\n",
      "(150, 10) (150,)\n"
     ]
    }
   ],
   "source": [
    "print(Xtrain.shape,ytrain.shape)\n",
    "print(Xtest.shape,ytest.shape)"
   ]
  },
  {
   "cell_type": "code",
   "execution_count": 48,
   "id": "49b4b4ff",
   "metadata": {},
   "outputs": [],
   "source": [
    "#Pre process X \n",
    "def preprocess(X):\n",
    "    if X.shape[1] == n_features :\n",
    "        m = X.shape[0]\n",
    "        ones = np.ones((m,1))\n",
    "        X = np.hstack((ones,X))\n",
    "    return X\n",
    "        "
   ]
  },
  {
   "cell_type": "code",
   "execution_count": 49,
   "id": "08d5b339",
   "metadata": {},
   "outputs": [],
   "source": [
    "Xtrain = preprocess(Xtrain)\n",
    "Xtest = preprocess(Xtest)"
   ]
  },
  {
   "cell_type": "code",
   "execution_count": 50,
   "id": "88da97c3",
   "metadata": {},
   "outputs": [
    {
     "name": "stdout",
     "output_type": "stream",
     "text": [
      "(350, 11) (150, 11)\n"
     ]
    }
   ],
   "source": [
    "print(Xtrain.shape,Xtest.shape)"
   ]
  },
  {
   "cell_type": "code",
   "execution_count": 57,
   "id": "261194b1",
   "metadata": {},
   "outputs": [],
   "source": [
    "#MODELING\n",
    "\n",
    "# 1. Hypothesis\n",
    "def hypothesis(X,theta):\n",
    "    return np.dot(X,theta)\n",
    "\n",
    "# 2. Loss Function\n",
    "def loss(X,y,theta):\n",
    "    y_predicted = hypothesis(X,theta)\n",
    "    error = np.mean((y_predicted - y)**2)\n",
    "    return error\n",
    "\n",
    "# 3. Gradient\n",
    "def gradient(X,y,theta):\n",
    "    y_predicted = hypothesis(X,theta)\n",
    "    grad = np.dot(X.T,(y_predicted-y))\n",
    "    m = X.shape[0]\n",
    "    return grad/m\n",
    "\n",
    "# 4. Training \n",
    "def train(X,y,learning_rate=0.1,max_Iters= 100):\n",
    "    n = X.shape[1]\n",
    "    err_list = []\n",
    "    theta = np.random.randn(n)\n",
    "    for  i in range(max_Iters):\n",
    "        error = loss(X,y,theta)\n",
    "        err_list.append(error)\n",
    "        grad = gradient(X,y,theta)\n",
    "        theta = theta - learning_rate*grad\n",
    "    plt.plot(err_list)\n",
    "    plt.show()\n",
    "    return theta"
   ]
  },
  {
   "cell_type": "code",
   "execution_count": 58,
   "id": "599ee0f5",
   "metadata": {},
   "outputs": [
    {
     "data": {
      "image/png": "[encoded data removed]",
      "text/plain": [
       "<Figure size 800x550 with 1 Axes>"
      ]
     },
     "metadata": {},
     "output_type": "display_data"
    }
   ],
   "source": [
    "theta = train(Xtrain,ytrain)"
   ]
  },
  {
   "cell_type": "code",
   "execution_count": 61,
   "id": "d6c1d966",
   "metadata": {},
   "outputs": [
    {
     "name": "stdout",
     "output_type": "stream",
     "text": [
      "(11,)\n",
      "[-4.94554350e+00  2.91407507e+01  6.06366445e+01  1.08387000e+01\n",
      "  6.30372245e+01  2.02010884e-01  2.77494364e-02  4.11348123e+01\n",
      "  3.33604675e-01 -3.03381321e-01  2.57247499e+01]\n"
     ]
    }
   ],
   "source": [
    "print(theta.shape)\n",
    "print(theta)"
   ]
  },
  {
   "cell_type": "code",
   "execution_count": 63,
   "id": "87c8b8a6",
   "metadata": {},
   "outputs": [],
   "source": [
    "#Evaluation\n",
    "def r2Score(y,yp):\n",
    "    ymean = y.mean()\n",
    "    num = np.sum((y-yp)**2)\n",
    "    den = np.sum((y-ymean)**2)\n",
    "    return  1 - (num/den)"
   ]
  },
  {
   "cell_type": "code",
   "execution_count": 65,
   "id": "6706bf19",
   "metadata": {},
   "outputs": [
    {
     "name": "stdout",
     "output_type": "stream",
     "text": [
      "(150,)\n"
     ]
    }
   ],
   "source": [
    "yp = hypothesis(Xtest,theta)\n",
    "print(yp.shape)\n"
   ]
  },
  {
   "cell_type": "code",
   "execution_count": 67,
   "id": "31601e09",
   "metadata": {},
   "outputs": [
    {
     "data": {
      "text/plain": [
       "0.9974304430333643"
      ]
     },
     "execution_count": 67,
     "metadata": {},
     "output_type": "execute_result"
    }
   ],
   "source": [
    "r2Score(ytest,yp)"
   ]
  },
  {
   "cell_type": "code",
   "execution_count": 70,
   "id": "8967f442",
   "metadata": {},
   "outputs": [],
   "source": [
    "##LINEAR REGRESSION USING SCIKIT LEARN\n",
    "from sklearn.linear_model import LinearRegression\n"
   ]
  },
  {
   "cell_type": "code",
   "execution_count": 71,
   "id": "446f2165",
   "metadata": {},
   "outputs": [],
   "source": [
    "model = LinearRegression()\n"
   ]
  },
  {
   "cell_type": "code",
   "execution_count": 73,
   "id": "2fdc8642",
   "metadata": {},
   "outputs": [
    {
     "data": {
      "text/html": [
       "<style>#sk-container-id-1 {color: black;}#sk-container-id-1 pre{padding: 0;}#sk-container-id-1 div.sk-toggleable {background-color: white;}#sk-container-id-1 label.sk-toggleable__label {cursor: pointer;display: block;width: 100%;margin-bottom: 0;padding: 0.3em;box-sizing: border-box;text-align: center;}#sk-container-id-1 label.sk-toggleable__label-arrow:before {content: \"▸\";float: left;margin-right: 0.25em;color: #696969;}#sk-container-id-1 label.sk-toggleable__label-arrow:hover:before {color: black;}#sk-container-id-1 div.sk-estimator:hover label.sk-toggleable__label-arrow:before {color: black;}#sk-container-id-1 div.sk-toggleable__content {max-height: 0;max-width: 0;overflow: hidden;text-align: left;background-color: #f0f8ff;}#sk-container-id-1 div.sk-toggleable__content pre {margin: 0.2em;color: black;border-radius: 0.25em;background-color: #f0f8ff;}#sk-container-id-1 input.sk-toggleable__control:checked~div.sk-toggleable__content {max-height: 200px;max-width: 100%;overflow: auto;}#sk-container-id-1 input.sk-toggleable__control:checked~label.sk-toggleable__label-arrow:before {content: \"▾\";}#sk-container-id-1 div.sk-estimator input.sk-toggleable__control:checked~label.sk-toggleable__label {background-color: #d4ebff;}#sk-container-id-1 div.sk-label input.sk-toggleable__control:checked~label.sk-toggleable__label {background-color: #d4ebff;}#sk-container-id-1 input.sk-hidden--visually {border: 0;clip: rect(1px 1px 1px 1px);clip: rect(1px, 1px, 1px, 1px);height: 1px;margin: -1px;overflow: hidden;padding: 0;position: absolute;width: 1px;}#sk-container-id-1 div.sk-estimator {font-family: monospace;background-color: #f0f8ff;border: 1px dotted black;border-radius: 0.25em;box-sizing: border-box;margin-bottom: 0.5em;}#sk-container-id-1 div.sk-estimator:hover {background-color: #d4ebff;}#sk-container-id-1 div.sk-parallel-item::after {content: \"\";width: 100%;border-bottom: 1px solid gray;flex-grow: 1;}#sk-container-id-1 div.sk-label:hover label.sk-toggleable__label {background-color: #d4ebff;}#sk-container-id-1 div.sk-serial::before {content: \"\";position: absolute;border-left: 1px solid gray;box-sizing: border-box;top: 0;bottom: 0;left: 50%;z-index: 0;}#sk-container-id-1 div.sk-serial {display: flex;flex-direction: column;align-items: center;background-color: white;padding-right: 0.2em;padding-left: 0.2em;position: relative;}#sk-container-id-1 div.sk-item {position: relative;z-index: 1;}#sk-container-id-1 div.sk-parallel {display: flex;align-items: stretch;justify-content: center;background-color: white;position: relative;}#sk-container-id-1 div.sk-item::before, #sk-container-id-1 div.sk-parallel-item::before {content: \"\";position: absolute;border-left: 1px solid gray;box-sizing: border-box;top: 0;bottom: 0;left: 50%;z-index: -1;}#sk-container-id-1 div.sk-parallel-item {display: flex;flex-direction: column;z-index: 1;position: relative;background-color: white;}#sk-container-id-1 div.sk-parallel-item:first-child::after {align-self: flex-end;width: 50%;}#sk-container-id-1 div.sk-parallel-item:last-child::after {align-self: flex-start;width: 50%;}#sk-container-id-1 div.sk-parallel-item:only-child::after {width: 0;}#sk-container-id-1 div.sk-dashed-wrapped {border: 1px dashed gray;margin: 0 0.4em 0.5em 0.4em;box-sizing: border-box;padding-bottom: 0.4em;background-color: white;}#sk-container-id-1 div.sk-label label {font-family: monospace;font-weight: bold;display: inline-block;line-height: 1.2em;}#sk-container-id-1 div.sk-label-container {text-align: center;}#sk-container-id-1 div.sk-container {/* jupyter's `normalize.less` sets `[hidden] { display: none; }` but bootstrap.min.css set `[hidden] { display: none !important; }` so we also need the `!important` here to be able to override the default hidden behavior on the sphinx rendered scikit-learn.org. See: https://github.com/scikit-learn/scikit-learn/issues/21755 */display: inline-block !important;position: relative;}#sk-container-id-1 div.sk-text-repr-fallback {display: none;}</style><div id=\"sk-container-id-1\" class=\"sk-top-container\"><div class=\"sk-text-repr-fallback\"><pre>LinearRegression()</pre><b>In a Jupyter environment, please rerun this cell to show the HTML representation or trust the notebook. <br />On GitHub, the HTML representation is unable to render, please try loading this page with nbviewer.org.</b></div><div class=\"sk-container\" hidden><div class=\"sk-item\"><div class=\"sk-estimator sk-toggleable\"><input class=\"sk-toggleable__control sk-hidden--visually\" id=\"sk-estimator-id-1\" type=\"checkbox\" checked><label for=\"sk-estimator-id-1\" class=\"sk-toggleable__label sk-toggleable__label-arrow\">LinearRegression</label><div class=\"sk-toggleable__content\"><pre>LinearRegression()</pre></div></div></div></div></div>"
      ],
      "text/plain": [
       "LinearRegression()"
      ]
     },
     "execution_count": 73,
     "metadata": {},
     "output_type": "execute_result"
    }
   ],
   "source": [
    "model.fit(Xtrain,ytrain)"
   ]
  },
  {
   "cell_type": "code",
   "execution_count": 74,
   "id": "16371c05",
   "metadata": {},
   "outputs": [
    {
     "data": {
      "text/plain": [
       "0.9974296143883143"
      ]
     },
     "execution_count": 74,
     "metadata": {},
     "output_type": "execute_result"
    }
   ],
   "source": [
    "model.score(Xtest,ytest)"
   ]
  },
  {
   "cell_type": "code",
   "execution_count": 75,
   "id": "db8deab0",
   "metadata": {},
   "outputs": [
    {
     "data": {
      "text/plain": [
       "-4.946585670279591"
      ]
     },
     "execution_count": 75,
     "metadata": {},
     "output_type": "execute_result"
    }
   ],
   "source": [
    "model.intercept_"
   ]
  },
  {
   "cell_type": "code",
   "execution_count": 81,
   "id": "d1c6aa47",
   "metadata": {},
   "outputs": [
    {
     "name": "stdout",
     "output_type": "stream",
     "text": [
      "(10,)\n"
     ]
    }
   ],
   "source": [
    "model.coef_\n",
    "print(model.coef_[1:].shape)"
   ]
  },
  {
   "cell_type": "code",
   "execution_count": 84,
   "id": "dcf62ba8",
   "metadata": {},
   "outputs": [
    {
     "name": "stdout",
     "output_type": "stream",
     "text": [
      "(11,)\n",
      "[-4.94658567e+00  2.91418964e+01  6.06362878e+01  1.08412061e+01\n",
      "  6.30408269e+01  1.99914639e-01  2.66634332e-02  4.11385034e+01\n",
      "  3.35054091e-01 -3.07095201e-01  2.57225117e+01]\n"
     ]
    }
   ],
   "source": [
    "theta = np.zeros((n_features+1,))\n",
    "print(theta.shape)\n",
    "theta[0] = model.intercept_\n",
    "theta[1:] = model.coef_[1:] \n",
    "print(theta)"
   ]
  },
  {
   "cell_type": "code",
   "execution_count": null,
   "id": "af22b71d",
   "metadata": {},
   "outputs": [],
   "source": []
  }
 ],
 "metadata": {
  "kernelspec": {
   "display_name": "Python 3 (ipykernel)",
   "language": "python",
   "name": "python3"
  },
  "language_info": {
   "codemirror_mode": {
    "name": "ipython",
    "version": 3
   },
   "file_extension": ".py",
   "mimetype": "text/x-python",
   "name": "python",
   "nbconvert_exporter": "python",
   "pygments_lexer": "ipython3",
   "version": "3.11.5"
  }
 },
 "nbformat": 4,
 "nbformat_minor": 5
}
